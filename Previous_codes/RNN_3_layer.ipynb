{
 "nbformat": 4,
 "nbformat_minor": 0,
 "metadata": {
  "colab": {
   "name": "RNN_3_layer.ipynb",
   "provenance": [],
   "collapsed_sections": []
  },
  "kernelspec": {
   "name": "python3",
   "display_name": "Python 3"
  },
  "language_info": {
   "name": "python"
  }
 },
 "cells": [
  {
   "cell_type": "code",
   "execution_count": null,
   "metadata": {
    "colab": {
     "base_uri": "https://localhost:8080/"
    },
    "id": "Mrx8CAdqXRo_",
    "executionInfo": {
     "status": "ok",
     "timestamp": 1654096450204,
     "user_tz": 240,
     "elapsed": 3695,
     "user": {
      "displayName": "Sunbochen Tang",
      "userId": "05750839125265487082"
     }
    },
    "outputId": "0834e5cf-1675-4a09-b33c-2abac9d7b63e",
    "pycharm": {
     "name": "#%%\n"
    }
   },
   "outputs": [],
   "source": [
    "import numpy as np\n",
    "import matplotlib.pyplot as plt\n",
    "\n",
    "import torch\n",
    "import torch.nn as nn\n"
   ]
  },
  {
   "cell_type": "markdown",
   "source": [
    "# Generate Time Series Data as in Feldkamp et al."
   ],
   "metadata": {
    "id": "b4ZuqMduYzjF",
    "pycharm": {
     "name": "#%% md\n"
    }
   }
  },
  {
   "cell_type": "code",
   "source": [
    "def nl_sys_gen_traj(type, i, N, x1_0):\n",
    "    # only generate x_1 trajectory for each of the 13 time series\n",
    "    x1_traj = np.zeros((N+1, ))\n",
    "    x2_traj = np.zeros((N+1, ))\n",
    "    m_traj = np.zeros((N+1, ))\n",
    "\n",
    "    # x2_0 = 10*np.random.randn()\n",
    "    x2_0 = 0\n",
    "    x1_traj[0] = x1_0\n",
    "    x2_traj[0] = x2_0\n",
    "    \n",
    "    alpha = np.array([1.5, 3.1, 3.6, 3.9, 3.95, 4.0])\n",
    "    beta = np.array([0.8, 1.0])\n",
    "    mu = 0.7\n",
    "    T = np.array([20, 80])\n",
    "\n",
    "    if type == 'quad':\n",
    "        for k in range(N):\n",
    "            # Note that the index of each type is starting from 1 (0 works but wrong)\n",
    "            if i == 7:\n",
    "                # alpha_k = (3.6+3.9)/2 + 0.15*np.sin(2*np.pi/5000*k)\n",
    "                alpha_k = (3.6+3.9)/2 + 0.15*np.sin(2*np.pi/N*k)\n",
    "                x1_traj[k+1] = alpha_k*x1_traj[k]*(1 - x1_traj[k])\n",
    "            else:\n",
    "                x1_traj[k+1] = alpha[i-1]*x1_traj[k]*(1 - x1_traj[k])\n",
    "    elif type == 'henon':\n",
    "        for k in range(N):\n",
    "            if i == 3:\n",
    "                # beta_k = 0.9 + 0.1*np.sin(2*np.pi/5000*k)\n",
    "                beta_k = 0.9 + 0.1*np.sin(2*np.pi/N*k)\n",
    "                x1_traj[k+1] = beta_k - 1.4*x1_traj[k]**2 + x2_traj[k]\n",
    "                x2_traj[k+1] = 0.3*x1_traj[k]\n",
    "            else:\n",
    "                x1_traj[k+1] = beta[i-1] - 1.4*x1_traj[k]**2 + x2_traj[k]\n",
    "                x2_traj[k+1] = 0.3*x1_traj[k]\n",
    "    elif type == 'ikeda':\n",
    "        for k in range(N):\n",
    "            m_traj[k] = 0.4 - 6.0/(1 + x1_traj[k]**2 + x2_traj[k]**2)\n",
    "            x1_traj[k+1] = 1. + mu*(x1_traj[k]*np.cos(m_traj[k]) - x2_traj[k]*np.sin(m_traj[k]))\n",
    "            x2_traj[k+1] = mu*(x1_traj[k]*np.sin(m_traj[k]) + x2_traj[k]*np.cos(m_traj[k]))\n",
    "        m_traj[N] = 0.4 - 6.0/(1 + x1_traj[N]**2 + x2_traj[N]**2)\n",
    "    elif type == 'sine':\n",
    "        for k in range(N+1):\n",
    "            x1_traj[k] = np.sin(2*np.pi*k/T[i-1])\n",
    "    else:\n",
    "        print('Wrong type input')\n",
    "\n",
    "    return x1_traj, x2_traj, m_traj"
   ],
   "metadata": {
    "id": "oAeuyPojYr4J",
    "pycharm": {
     "name": "#%%\n"
    }
   },
   "execution_count": null,
   "outputs": []
  },
  {
   "cell_type": "code",
   "source": [
    "x1_traj, _, _ = nl_sys_gen_traj('ikeda', 1, 10, 0.5)\n",
    "\n",
    "fig, ax = plt.subplots()\n",
    "ax.plot(range(11), x1_traj)\n",
    "plt.xlim([0, 10])\n",
    "plt.ylim([-1., 1.])\n",
    "\n",
    "x1_traj.shape"
   ],
   "metadata": {
    "colab": {
     "base_uri": "https://localhost:8080/",
     "height": 286
    },
    "id": "UTDdx48PmHv4",
    "executionInfo": {
     "status": "ok",
     "timestamp": 1654096458774,
     "user_tz": 240,
     "elapsed": 344,
     "user": {
      "displayName": "Sunbochen Tang",
      "userId": "05750839125265487082"
     }
    },
    "outputId": "4d50d666-c351-4f99-c5c3-cc1fc5732e37",
    "pycharm": {
     "name": "#%%\n"
    }
   },
   "execution_count": null,
   "outputs": []
  },
  {
   "cell_type": "code",
   "source": [
    "a = np.array([1., 2., 3., 4.]).reshape((-1, 1))\n",
    "a_sub = a[:-1]\n",
    "print(a_sub)"
   ],
   "metadata": {
    "colab": {
     "base_uri": "https://localhost:8080/"
    },
    "id": "EIp6ztbSQNaK",
    "executionInfo": {
     "status": "ok",
     "timestamp": 1654092557925,
     "user_tz": 240,
     "elapsed": 172,
     "user": {
      "displayName": "Sunbochen Tang",
      "userId": "05750839125265487082"
     }
    },
    "outputId": "38fad0f7-98ae-4cdb-9501-22915cef68fc",
    "pycharm": {
     "name": "#%%\n"
    }
   },
   "execution_count": null,
   "outputs": []
  },
  {
   "cell_type": "code",
   "source": [
    "b = np.array([2., 3., 4., 5.]).reshape((-1, 1))\n",
    "ab = np.concatenate([a, b], axis=1)\n",
    "print(ab)"
   ],
   "metadata": {
    "colab": {
     "base_uri": "https://localhost:8080/"
    },
    "id": "GV-DkmecRj1W",
    "executionInfo": {
     "status": "ok",
     "timestamp": 1654045984398,
     "user_tz": 240,
     "elapsed": 6,
     "user": {
      "displayName": "Sunbochen Tang",
      "userId": "05750839125265487082"
     }
    },
    "outputId": "8d9be182-35bb-48ac-a461-e0b71f2efe7b",
    "pycharm": {
     "name": "#%%\n"
    }
   },
   "execution_count": null,
   "outputs": []
  },
  {
   "cell_type": "code",
   "source": [
    "train_traj_list = list()\n",
    "pred_traj_list = list()\n",
    "N = 500\n",
    "\n",
    "for i in range(1, 8):\n",
    "    x1_traj_i, _, _ = nl_sys_gen_traj('quad', i, N, 0.4)\n",
    "    x1_traj_i = x1_traj_i.reshape((-1, 1))\n",
    "    train_traj_list.append(x1_traj_i[: -1, :])\n",
    "    pred_traj_list.append(x1_traj_i[1:, :])\n",
    "\n",
    "for j in range(1, 4):\n",
    "    x1_traj_j, _, _ = nl_sys_gen_traj('henon', j, N, 0.5)\n",
    "    x1_traj_j = x1_traj_j.reshape((-1, 1))\n",
    "    train_traj_list.append(x1_traj_j[: -1, :])\n",
    "    pred_traj_list.append(x1_traj_j[1:, :])\n",
    "\n",
    "x1_traj_ikeda, _, _ = nl_sys_gen_traj('ikeda', 1, N, 0.5)\n",
    "x1_traj_ikeda = x1_traj_ikeda.reshape((-1, 1))\n",
    "train_traj_list.append(x1_traj_ikeda[:-1, :])\n",
    "pred_traj_list.append(x1_traj_ikeda[1:, :])\n",
    "\n",
    "for k in range(1, 3):\n",
    "    x1_traj_k, _, _ = nl_sys_gen_traj('sine', k, N, 0.5)\n",
    "    x1_traj_k = x1_traj_k.reshape((-1, 1))\n",
    "    train_traj_list.append(x1_traj_k[:-1, :])\n",
    "    pred_traj_list.append(x1_traj_k[1:, :])\n",
    "\n",
    "train_traj = np.concatenate(train_traj_list)\n",
    "pred_traj = np.concatenate(pred_traj_list)\n",
    "batch_size = N\n",
    "num_batch  = len(train_traj_list)"
   ],
   "metadata": {
    "id": "ZZX1_tTX8h7y",
    "pycharm": {
     "name": "#%%\n"
    }
   },
   "execution_count": null,
   "outputs": []
  },
  {
   "cell_type": "code",
   "source": [
    "train_set = torch.FloatTensor(train_traj).view(-1, 1)\n",
    "true_set = torch.FloatTensor(pred_traj).view(-1, 1)"
   ],
   "metadata": {
    "id": "5iHTqo7K05m_",
    "pycharm": {
     "name": "#%%\n"
    }
   },
   "execution_count": null,
   "outputs": []
  },
  {
   "cell_type": "code",
   "source": [
    "train_set[0].view(-1, 1, 1)\n",
    "train_set.shape"
   ],
   "metadata": {
    "colab": {
     "base_uri": "https://localhost:8080/"
    },
    "id": "d7lPUERX35QD",
    "executionInfo": {
     "status": "ok",
     "timestamp": 1654096464198,
     "user_tz": 240,
     "elapsed": 136,
     "user": {
      "displayName": "Sunbochen Tang",
      "userId": "05750839125265487082"
     }
    },
    "outputId": "d26fb3f9-8ac3-4756-e89f-9c08791ab288",
    "pycharm": {
     "name": "#%%\n"
    }
   },
   "execution_count": null,
   "outputs": []
  },
  {
   "cell_type": "markdown",
   "source": [
    "# Set up Neural Network"
   ],
   "metadata": {
    "id": "jMkmVFmzLh5Y",
    "pycharm": {
     "name": "#%% md\n"
    }
   }
  },
  {
   "cell_type": "code",
   "source": [
    "class RNNModel(nn.Module):\n",
    "    def __init__(self, input_size, hidden_dim_1, hidden_dim_2, hidden_dim_3, output_size):\n",
    "        super(RNNModel, self).__init__()\n",
    "\n",
    "        # Defining some parameters\n",
    "        self.hidden_dim_1 = hidden_dim_1\n",
    "        self.hidden_dim_2 = hidden_dim_2\n",
    "        self.hidden_dim_3 = hidden_dim_3\n",
    "        self.input_size = input_size\n",
    "        self.n_layers = 1\n",
    "\n",
    "        # Defining the layers\n",
    "        # RNN Layer\n",
    "        self.rnn_1 = nn.RNN(input_size, hidden_dim_1)\n",
    "        self.rnn_2 = nn.RNN(hidden_dim_1, hidden_dim_2)\n",
    "        self.rnn_3 = nn.RNN(hidden_dim_2, hidden_dim_3)\n",
    "        # Fully connected layer\n",
    "        self.fc = nn.Linear(hidden_dim_3, output_size)\n",
    "\n",
    "        # Initializing hidden state for first input using method defined below (Why should this be in the forward loop???)\n",
    "        # self.hidden_1, self.hidden_2 = self.init_hidden(batch_size)\n",
    "    \n",
    "    def forward(self, x):\n",
    "        batch_size = x.size(0)\n",
    "\n",
    "        # Initializing hidden state for first input using method defined below\n",
    "        self.hidden_1, self.hidden_2, self.hidden_3 = self.init_hidden(batch_size)\n",
    "\n",
    "        # Passing in the input and hidden state into the model and obtaining outputs\n",
    "        out1, self.hidden_1 = self.rnn_1(x.view(-1,1,self.input_size),self.hidden_1)\n",
    "        out2, self.hidden_2 = self.rnn_2(out1, self.hidden_2)\n",
    "        out3, self.hidden_3 = self.rnn_3(out2, self.hidden_3)\n",
    "        \n",
    "        # Reshaping the outputs such that it can be fit into the fully connected layer\n",
    "        # out2 = out2.contiguous().view(-1, self.hidden_dim_2)\n",
    "        # pred = self.linear(lstm_out_2.view(len(seq),-1))\n",
    "        out = self.fc(out3.view(len(x), -1))\n",
    "        # out = self.fc(out2[:, -1, :])\n",
    "        \n",
    "        return out\n",
    "    \n",
    "    def init_hidden(self, batch_size):\n",
    "        # This method generates the first hidden state of zeros which we'll use in the forward pass\n",
    "        # We'll send the tensor holding the hidden state to the device we specified earlier as well\n",
    "        hidden_1 = torch.zeros(self.n_layers, batch_size, self.hidden_dim_1)\n",
    "        hidden_2 = torch.zeros(self.n_layers, batch_size, self.hidden_dim_2)\n",
    "        hidden_3 = torch.zeros(self.n_layers, batch_size, self.hidden_dim_3)\n",
    "        return hidden_1, hidden_2, hidden_3"
   ],
   "metadata": {
    "id": "kj1A7MzJLhBL",
    "pycharm": {
     "name": "#%%\n"
    }
   },
   "execution_count": null,
   "outputs": []
  },
  {
   "cell_type": "code",
   "source": [
    "# Creating a model instance, loss function and the optimizer\n",
    "model = RNNModel(input_size=1,hidden_dim_1=8, hidden_dim_2=7, hidden_dim_3 = 6,output_size=1)\n",
    "\n",
    "criterion = nn.MSELoss()\n",
    "optimizer = torch.optim.Adam(model.parameters(),lr=0.001)"
   ],
   "metadata": {
    "id": "1iwmhkr4yvY8",
    "pycharm": {
     "name": "#%%\n"
    }
   },
   "execution_count": null,
   "outputs": []
  },
  {
   "cell_type": "code",
   "source": [
    "display(model)\n",
    "display(optimizer)\n",
    "def count_parameters(model):\n",
    "    params = [p.numel() for p in model.parameters() if p.requires_grad]\n",
    "    for item in params:\n",
    "        print(f'{item:>6}')\n",
    "    print(f'______\\n{sum(params):>6}')\n",
    "    \n",
    "count_parameters(model)"
   ],
   "metadata": {
    "colab": {
     "base_uri": "https://localhost:8080/",
     "height": 555
    },
    "id": "pqnrzdKLyw_d",
    "executionInfo": {
     "status": "ok",
     "timestamp": 1654096469074,
     "user_tz": 240,
     "elapsed": 149,
     "user": {
      "displayName": "Sunbochen Tang",
      "userId": "05750839125265487082"
     }
    },
    "outputId": "68fa547e-347c-4263-de25-9f3114ec4047",
    "pycharm": {
     "name": "#%%\n"
    }
   },
   "execution_count": null,
   "outputs": []
  },
  {
   "cell_type": "markdown",
   "source": [
    "# Training"
   ],
   "metadata": {
    "id": "UTBO4K-xzgnf",
    "pycharm": {
     "name": "#%% md\n"
    }
   }
  },
  {
   "cell_type": "code",
   "source": [
    "num_batch\n",
    "batch_size"
   ],
   "metadata": {
    "colab": {
     "base_uri": "https://localhost:8080/"
    },
    "id": "Q5ZSHKEh5Da8",
    "executionInfo": {
     "status": "ok",
     "timestamp": 1654096471873,
     "user_tz": 240,
     "elapsed": 133,
     "user": {
      "displayName": "Sunbochen Tang",
      "userId": "05750839125265487082"
     }
    },
    "outputId": "46fce6e8-0bf9-4486-ce8d-d3c0624d2270",
    "pycharm": {
     "name": "#%%\n"
    }
   },
   "execution_count": null,
   "outputs": []
  },
  {
   "cell_type": "code",
   "source": [
    "# Set the number of epochs\n",
    "\n",
    "epochs = 100\n",
    "\n",
    "for epoch in range(epochs):\n",
    "    \n",
    "    # Running each batch separately \n",
    "    \n",
    "    for bat_id in range(num_batch):\n",
    "    \n",
    "        for k in range(batch_size):\n",
    "            \n",
    "            # set the optimization gradient to zero\n",
    "\n",
    "            optimizer.zero_grad()\n",
    "            \n",
    "            # initialize the hidden states\n",
    "\n",
    "            model.hidden_1 = (torch.zeros(1,1,model.hidden_dim_1),\n",
    "                            torch.zeros(1,1,model.hidden_dim_1))\n",
    "\n",
    "            model.hidden_2 = (torch.zeros(1,1,model.hidden_dim_2),\n",
    "                            torch.zeros(1,1,model.hidden_dim_2))\n",
    "            \n",
    "            model.hidden_3 = (torch.zeros(1,1,model.hidden_dim_3),\n",
    "                            torch.zeros(1,1,model.hidden_dim_3))\n",
    "            \n",
    "            # Make predictions on the current sequence\n",
    "\n",
    "            y_pred = model(train_set[bat_id*batch_size + k])\n",
    "            \n",
    "            # Compute the loss\n",
    "\n",
    "            loss = criterion(y_pred, true_set[bat_id*batch_size + k])\n",
    "            \n",
    "            # Perform back propogation and gradient descent\n",
    "\n",
    "            loss.backward()\n",
    "\n",
    "            optimizer.step()\n",
    "\n",
    "    if epoch%10 == 0:\n",
    "\n",
    "        print(f'Epoch: {epoch} Loss: {loss.item():10.8f}')"
   ],
   "metadata": {
    "colab": {
     "base_uri": "https://localhost:8080/"
    },
    "id": "Fe1Kw6GGy05g",
    "executionInfo": {
     "status": "ok",
     "timestamp": 1654098499946,
     "user_tz": 240,
     "elapsed": 933546,
     "user": {
      "displayName": "Sunbochen Tang",
      "userId": "05750839125265487082"
     }
    },
    "outputId": "f828dcd2-b955-4c93-d835-889bbd8cc738",
    "pycharm": {
     "name": "#%%\n"
    }
   },
   "execution_count": null,
   "outputs": [
    {
     "name": "stdout",
     "output_type": "stream",
     "text": [
      "Epoch: 10 Loss: 0.00527634\n"
     ]
    },
    {
     "ename": "KeyboardInterrupt",
     "evalue": "",
     "output_type": "error",
     "traceback": [
      "\u001B[0;31m---------------------------------------------------------------------------\u001B[0m",
      "\u001B[0;31mKeyboardInterrupt\u001B[0m                         Traceback (most recent call last)",
      "Input \u001B[0;32mIn [13]\u001B[0m, in \u001B[0;36m<cell line: 5>\u001B[0;34m()\u001B[0m\n\u001B[1;32m     34\u001B[0m         loss \u001B[38;5;241m=\u001B[39m criterion(y_pred, true_set[bat_id\u001B[38;5;241m*\u001B[39mbatch_size \u001B[38;5;241m+\u001B[39m k])\n\u001B[1;32m     36\u001B[0m         \u001B[38;5;66;03m# Perform back propogation and gradient descent\u001B[39;00m\n\u001B[0;32m---> 38\u001B[0m         \u001B[43mloss\u001B[49m\u001B[38;5;241;43m.\u001B[39;49m\u001B[43mbackward\u001B[49m\u001B[43m(\u001B[49m\u001B[43m)\u001B[49m\n\u001B[1;32m     40\u001B[0m         optimizer\u001B[38;5;241m.\u001B[39mstep()\n\u001B[1;32m     42\u001B[0m \u001B[38;5;28;01mif\u001B[39;00m epoch\u001B[38;5;241m%\u001B[39m\u001B[38;5;241m10\u001B[39m \u001B[38;5;241m==\u001B[39m \u001B[38;5;241m0\u001B[39m:\n",
      "File \u001B[0;32m~/opt/anaconda3/envs/pytorch_env/lib/python3.9/site-packages/torch/_tensor.py:363\u001B[0m, in \u001B[0;36mTensor.backward\u001B[0;34m(self, gradient, retain_graph, create_graph, inputs)\u001B[0m\n\u001B[1;32m    354\u001B[0m \u001B[38;5;28;01mif\u001B[39;00m has_torch_function_unary(\u001B[38;5;28mself\u001B[39m):\n\u001B[1;32m    355\u001B[0m     \u001B[38;5;28;01mreturn\u001B[39;00m handle_torch_function(\n\u001B[1;32m    356\u001B[0m         Tensor\u001B[38;5;241m.\u001B[39mbackward,\n\u001B[1;32m    357\u001B[0m         (\u001B[38;5;28mself\u001B[39m,),\n\u001B[0;32m   (...)\u001B[0m\n\u001B[1;32m    361\u001B[0m         create_graph\u001B[38;5;241m=\u001B[39mcreate_graph,\n\u001B[1;32m    362\u001B[0m         inputs\u001B[38;5;241m=\u001B[39minputs)\n\u001B[0;32m--> 363\u001B[0m \u001B[43mtorch\u001B[49m\u001B[38;5;241;43m.\u001B[39;49m\u001B[43mautograd\u001B[49m\u001B[38;5;241;43m.\u001B[39;49m\u001B[43mbackward\u001B[49m\u001B[43m(\u001B[49m\u001B[38;5;28;43mself\u001B[39;49m\u001B[43m,\u001B[49m\u001B[43m \u001B[49m\u001B[43mgradient\u001B[49m\u001B[43m,\u001B[49m\u001B[43m \u001B[49m\u001B[43mretain_graph\u001B[49m\u001B[43m,\u001B[49m\u001B[43m \u001B[49m\u001B[43mcreate_graph\u001B[49m\u001B[43m,\u001B[49m\u001B[43m \u001B[49m\u001B[43minputs\u001B[49m\u001B[38;5;241;43m=\u001B[39;49m\u001B[43minputs\u001B[49m\u001B[43m)\u001B[49m\n",
      "File \u001B[0;32m~/opt/anaconda3/envs/pytorch_env/lib/python3.9/site-packages/torch/autograd/__init__.py:173\u001B[0m, in \u001B[0;36mbackward\u001B[0;34m(tensors, grad_tensors, retain_graph, create_graph, grad_variables, inputs)\u001B[0m\n\u001B[1;32m    168\u001B[0m     retain_graph \u001B[38;5;241m=\u001B[39m create_graph\n\u001B[1;32m    170\u001B[0m \u001B[38;5;66;03m# The reason we repeat same the comment below is that\u001B[39;00m\n\u001B[1;32m    171\u001B[0m \u001B[38;5;66;03m# some Python versions print out the first line of a multi-line function\u001B[39;00m\n\u001B[1;32m    172\u001B[0m \u001B[38;5;66;03m# calls in the traceback and some print out the last line\u001B[39;00m\n\u001B[0;32m--> 173\u001B[0m \u001B[43mVariable\u001B[49m\u001B[38;5;241;43m.\u001B[39;49m\u001B[43m_execution_engine\u001B[49m\u001B[38;5;241;43m.\u001B[39;49m\u001B[43mrun_backward\u001B[49m\u001B[43m(\u001B[49m\u001B[43m  \u001B[49m\u001B[38;5;66;43;03m# Calls into the C++ engine to run the backward pass\u001B[39;49;00m\n\u001B[1;32m    174\u001B[0m \u001B[43m    \u001B[49m\u001B[43mtensors\u001B[49m\u001B[43m,\u001B[49m\u001B[43m \u001B[49m\u001B[43mgrad_tensors_\u001B[49m\u001B[43m,\u001B[49m\u001B[43m \u001B[49m\u001B[43mretain_graph\u001B[49m\u001B[43m,\u001B[49m\u001B[43m \u001B[49m\u001B[43mcreate_graph\u001B[49m\u001B[43m,\u001B[49m\u001B[43m \u001B[49m\u001B[43minputs\u001B[49m\u001B[43m,\u001B[49m\n\u001B[1;32m    175\u001B[0m \u001B[43m    \u001B[49m\u001B[43mallow_unreachable\u001B[49m\u001B[38;5;241;43m=\u001B[39;49m\u001B[38;5;28;43;01mTrue\u001B[39;49;00m\u001B[43m,\u001B[49m\u001B[43m \u001B[49m\u001B[43maccumulate_grad\u001B[49m\u001B[38;5;241;43m=\u001B[39;49m\u001B[38;5;28;43;01mTrue\u001B[39;49;00m\u001B[43m)\u001B[49m\n",
      "\u001B[0;31mKeyboardInterrupt\u001B[0m: "
     ]
    }
   ]
  },
  {
   "cell_type": "code",
   "source": [
    "\n",
    "model_save_name = 'RNN_500_2.pt'\n",
    "path = F\"./RNN/{model_save_name}\"\n",
    "torch.save(model.state_dict(), path)"
   ],
   "metadata": {
    "colab": {
     "base_uri": "https://localhost:8080/"
    },
    "id": "rW8qvuiweDqt",
    "executionInfo": {
     "status": "ok",
     "timestamp": 1654098744035,
     "user_tz": 240,
     "elapsed": 139,
     "user": {
      "displayName": "Sunbochen Tang",
      "userId": "05750839125265487082"
     }
    },
    "outputId": "ebc7a6b3-f80a-4ac7-b861-9cfc9fcaa692",
    "pycharm": {
     "name": "#%%\n"
    }
   },
   "execution_count": null,
   "outputs": []
  },
  {
   "cell_type": "code",
   "source": [
    "model_save_name = 'RNN_500_2.pt'\n",
    "path = F\"./RNN/{model_save_name}\" \n",
    "model.load_state_dict(torch.load(path))"
   ],
   "metadata": {
    "colab": {
     "base_uri": "https://localhost:8080/"
    },
    "id": "L_gvevfWefJn",
    "executionInfo": {
     "status": "ok",
     "timestamp": 1654098745110,
     "user_tz": 240,
     "elapsed": 207,
     "user": {
      "displayName": "Sunbochen Tang",
      "userId": "05750839125265487082"
     }
    },
    "outputId": "3a41944f-daaa-4ffb-d94d-cb1b829cd968",
    "pycharm": {
     "name": "#%%\n"
    }
   },
   "execution_count": null,
   "outputs": []
  },
  {
   "cell_type": "code",
   "source": [
    "horizon = batch_size\n",
    "\n",
    "model.eval()\n",
    "\n",
    "pred_model = list()\n",
    "true_data = list()\n",
    "\n",
    "for id in range(num_batch):\n",
    "    true_data.append(pred_traj_list[id])\n",
    "    pred_traj = np.zeros((batch_size, ))\n",
    "    for k in range(batch_size):\n",
    "        # Initialize hidden states\n",
    "        model.hidden_1 = (torch.zeros(1,1,model.hidden_dim_1),\n",
    "                        torch.zeros(1,1,model.hidden_dim_1))\n",
    "        model.hidden_2 = (torch.zeros(1,1,model.hidden_dim_2),\n",
    "                        torch.zeros(1,1,model.hidden_dim_2))\n",
    "        model.hidden_3 = (torch.zeros(1,1,model.hidden_dim_3),\n",
    "                        torch.zeros(1,1,model.hidden_dim_3))\n",
    "        \n",
    "        pred_traj[k] = model(train_set[id*batch_size + k])\n",
    "    \n",
    "    pred_model.append(pred_traj)"
   ],
   "metadata": {
    "id": "WvnPoFR69y-2",
    "pycharm": {
     "name": "#%%\n"
    }
   },
   "execution_count": null,
   "outputs": []
  },
  {
   "cell_type": "code",
   "source": [
    "fig1, ax1 = plt.subplots(2, 3, figsize=(18, 12))\n",
    "alpha_index = ['3.1', '3.6', '3.9', '3.95', '4.0', 'periodic']\n",
    "for id in range(1, 7):\n",
    "    ax1[(id-1)//3, (id-1)%3].plot(range(batch_size), pred_model[id])\n",
    "    ax1[(id-1)//3, (id-1)%3].plot(range(batch_size), true_data[id])\n",
    "    ax1[(id-1)//3, (id-1)%3].set_xlim([260, 300])\n",
    "    ax1[(id-1)//3, (id-1)%3].set_title('alpha='+alpha_index[id-1])"
   ],
   "metadata": {
    "colab": {
     "base_uri": "https://localhost:8080/",
     "height": 716
    },
    "id": "dZ8IBws5Ft2_",
    "executionInfo": {
     "status": "ok",
     "timestamp": 1654098942177,
     "user_tz": 240,
     "elapsed": 1519,
     "user": {
      "displayName": "Sunbochen Tang",
      "userId": "05750839125265487082"
     }
    },
    "outputId": "5caad3b2-f9e7-43ed-ffbc-6c374a6bf6c2",
    "pycharm": {
     "name": "#%%\n"
    }
   },
   "execution_count": null,
   "outputs": []
  },
  {
   "cell_type": "code",
   "source": [
    "fig2, ax2 = plt.subplots(1, 3, figsize=(18, 6))\n",
    "beta_index = ['0.8', '1.0', 'periodic']\n",
    "for id in range(7, 10):\n",
    "    ax2[(id-7)%3].plot(range(batch_size), pred_model[id])\n",
    "    ax2[(id-7)%3].plot(range(batch_size), true_data[id])\n",
    "    ax2[(id-7)%3].set_xlim([260, 300])\n",
    "    ax2[(id-7)%3].set_title('beta='+beta_index[id-7])"
   ],
   "metadata": {
    "colab": {
     "base_uri": "https://localhost:8080/",
     "height": 390
    },
    "id": "kQFSfWXIIl6i",
    "executionInfo": {
     "status": "ok",
     "timestamp": 1654098942690,
     "user_tz": 240,
     "elapsed": 516,
     "user": {
      "displayName": "Sunbochen Tang",
      "userId": "05750839125265487082"
     }
    },
    "outputId": "a12bc82d-5089-43c4-9bc5-05bdbedb82b4",
    "pycharm": {
     "name": "#%%\n"
    }
   },
   "execution_count": null,
   "outputs": []
  },
  {
   "cell_type": "code",
   "source": [
    "fig3, ax3 = plt.subplots(1, 1, figsize=(6, 6))\n",
    "ax3.plot(range(batch_size), pred_model[10])\n",
    "ax3.plot(range(batch_size), true_data[10])\n",
    "ax3.set_xlim([260, 300])\n",
    "ax3.set_title('ikeda')"
   ],
   "metadata": {
    "colab": {
     "base_uri": "https://localhost:8080/",
     "height": 407
    },
    "id": "trKC37kmJBC-",
    "executionInfo": {
     "status": "ok",
     "timestamp": 1654098942995,
     "user_tz": 240,
     "elapsed": 310,
     "user": {
      "displayName": "Sunbochen Tang",
      "userId": "05750839125265487082"
     }
    },
    "outputId": "d2118ae6-5ffc-4b2b-d27c-d75b923711e5",
    "pycharm": {
     "name": "#%%\n"
    }
   },
   "execution_count": null,
   "outputs": []
  },
  {
   "cell_type": "code",
   "source": [
    "fig4, ax4 = plt.subplots(1, 2, figsize=(12, 6))\n",
    "T_index = ['20', '80']\n",
    "for id in range(11, 13):\n",
    "    ax4[(id-11)%2].plot(range(batch_size), pred_model[id])\n",
    "    ax4[(id-11)%2].plot(range(batch_size), true_data[id])\n",
    "    ax4[(id-11)%2].set_xlim([200, 400])\n",
    "    ax4[(id-11)%2].set_title('T='+T_index[id-11])"
   ],
   "metadata": {
    "colab": {
     "base_uri": "https://localhost:8080/",
     "height": 390
    },
    "id": "ttdmOq6xJVok",
    "executionInfo": {
     "status": "ok",
     "timestamp": 1654098943332,
     "user_tz": 240,
     "elapsed": 341,
     "user": {
      "displayName": "Sunbochen Tang",
      "userId": "05750839125265487082"
     }
    },
    "outputId": "193ca275-61bf-497b-982c-36b6d4d043c1",
    "pycharm": {
     "name": "#%%\n"
    }
   },
   "execution_count": null,
   "outputs": []
  },
  {
   "cell_type": "markdown",
   "source": [
    "# Extrapolation Testing"
   ],
   "metadata": {
    "id": "yz1CU5I1Sc2L",
    "pycharm": {
     "name": "#%% md\n"
    }
   }
  },
  {
   "cell_type": "code",
   "source": [
    "def var_test_gen_traj(type, i, N, x1_0):\n",
    "    # only generate x_1 trajectory for each of the 13 time series\n",
    "    x1_traj = np.zeros((N+1, ))\n",
    "    x2_traj = np.zeros((N+1, ))\n",
    "    m_traj = np.zeros((N+1, ))\n",
    "\n",
    "    # x2_0 = 10*np.random.randn()\n",
    "    x2_0 = 0\n",
    "    x1_traj[0] = x1_0\n",
    "    x2_traj[0] = x2_0\n",
    "    \n",
    "    alpha = np.array([3.0, 3.75])\n",
    "    beta = np.array([0.75, 0.90])\n",
    "    mu = 0.75\n",
    "    T = np.array([15, 50, 85])\n",
    "\n",
    "    if type == 'quad':\n",
    "        for k in range(N):\n",
    "            # Note that the index of each type is starting from 1 (0 works but wrong)\n",
    "            x1_traj[k+1] = alpha[i-1]*x1_traj[k]*(1 - x1_traj[k])\n",
    "    elif type == 'henon':\n",
    "        for k in range(N):\n",
    "            x1_traj[k+1] = beta[i-1] - 1.4*x1_traj[k]**2 + x2_traj[k]\n",
    "            x2_traj[k+1] = 0.3*x1_traj[k]\n",
    "    elif type == 'ikeda':\n",
    "        for k in range(N):\n",
    "            m_traj[k] = 0.4 - 6.0/(1 + x1_traj[k]**2 + x2_traj[k]**2)\n",
    "            x1_traj[k+1] = 1. + mu*(x1_traj[k]*np.cos(m_traj[k]) - x2_traj[k]*np.sin(m_traj[k]))\n",
    "            x2_traj[k+1] = mu*(x1_traj[k]*np.sin(m_traj[k]) + x2_traj[k]*np.cos(m_traj[k]))\n",
    "        m_traj[N] = 0.4 - 6.0/(1 + x1_traj[N]**2 + x2_traj[N]**2)\n",
    "    elif type == 'sine':\n",
    "        for k in range(N+1):\n",
    "            x1_traj[k] = np.sin(2*np.pi*k/T[i-1])\n",
    "    else:\n",
    "        print('Wrong type input')\n",
    "\n",
    "    return x1_traj, x2_traj, m_traj"
   ],
   "metadata": {
    "id": "SoJL8ZENh1Qp",
    "pycharm": {
     "name": "#%%\n"
    }
   },
   "execution_count": null,
   "outputs": []
  },
  {
   "cell_type": "code",
   "source": [
    "test_T = 200\n",
    "\n",
    "# Set the model to evaluation mode\n",
    "\n",
    "model.eval()\n",
    "\n",
    "x_init = 0.8\n",
    "\n",
    "test_var_input = list()\n",
    "test_var_pred = list()\n",
    "test_var_out = list()\n",
    "\n",
    "for i in range(2):\n",
    "    x1_traj_pred = np.zeros((test_T, ))\n",
    "    x1_traj, _, _ = var_test_gen_traj('quad', i, test_T, x_init)\n",
    "    test_var_input.append(x1_traj[:-1])\n",
    "    test_var_out.append(x1_traj[1: ])\n",
    "    \n",
    "    x1_traj = torch.FloatTensor(x1_traj).view(-1, 1)\n",
    "    for k in range(test_T):\n",
    "        model.hidden_1 = (torch.zeros(1,1,model.hidden_dim_1),\n",
    "                        torch.zeros(1,1,model.hidden_dim_1))\n",
    "        model.hidden_2 = (torch.zeros(1,1,model.hidden_dim_2),\n",
    "                        torch.zeros(1,1,model.hidden_dim_2))\n",
    "        model.hidden_3 = (torch.zeros(1,1,model.hidden_dim_3),\n",
    "                        torch.zeros(1,1,model.hidden_dim_3))\n",
    "        x1_traj_pred[k] = model(x1_traj[k])\n",
    "    test_var_pred.append(x1_traj_pred)\n",
    "\n",
    "fig5, ax5 = plt.subplots(1, 2, figsize=(12, 6))\n",
    "alpha_index = ['3.0', '3.75']\n",
    "for id in range(2):\n",
    "    ax5[id].plot(range(test_T), test_var_pred[id])\n",
    "    ax5[id].plot(range(test_T), test_var_out[id])\n",
    "    ax5[id].set_xlim([80, 150])\n",
    "    ax5[id].set_title('alpha='+alpha_index[id])\n",
    "\n",
    "for i in range(2):\n",
    "    x1_traj_pred = np.zeros((test_T, ))\n",
    "    x1_traj, _, _ = var_test_gen_traj('henon', i, test_T, x_init)\n",
    "    test_var_input.append(x1_traj[:-1])\n",
    "    test_var_out.append(x1_traj[1: ])\n",
    "    \n",
    "    x1_traj = torch.FloatTensor(x1_traj).view(-1, 1)\n",
    "    for k in range(test_T):\n",
    "        model.hidden_1 = (torch.zeros(1,1,model.hidden_dim_1),\n",
    "                        torch.zeros(1,1,model.hidden_dim_1))\n",
    "        model.hidden_2 = (torch.zeros(1,1,model.hidden_dim_2),\n",
    "                        torch.zeros(1,1,model.hidden_dim_2))\n",
    "        model.hidden_3 = (torch.zeros(1,1,model.hidden_dim_3),\n",
    "                        torch.zeros(1,1,model.hidden_dim_3))\n",
    "        x1_traj_pred[k] = model(x1_traj[k])\n",
    "    test_var_pred.append(x1_traj_pred)\n",
    "\n",
    "fig6, ax6 = plt.subplots(1, 2, figsize=(12, 6))\n",
    "beta_index = ['0.75', '0.90']\n",
    "for id in range(2):\n",
    "    ax6[id].plot(range(test_T), test_var_pred[id+2])\n",
    "    ax6[id].plot(range(test_T), test_var_out[id+2])\n",
    "    ax6[id].set_xlim([80, 150])\n",
    "    ax6[id].set_title('beta='+beta_index[id])"
   ],
   "metadata": {
    "id": "jDdiZLfT7dnq",
    "colab": {
     "base_uri": "https://localhost:8080/",
     "height": 763
    },
    "executionInfo": {
     "status": "ok",
     "timestamp": 1654098944628,
     "user_tz": 240,
     "elapsed": 1300,
     "user": {
      "displayName": "Sunbochen Tang",
      "userId": "05750839125265487082"
     }
    },
    "outputId": "78407060-d176-4896-db80-db5f31c85f2d",
    "pycharm": {
     "name": "#%%\n"
    }
   },
   "execution_count": null,
   "outputs": []
  },
  {
   "cell_type": "code",
   "source": [
    "x1_traj_pred = np.zeros((test_T, ))\n",
    "x1_traj, _, _ = var_test_gen_traj('ikeda', 0, test_T, x_init)\n",
    "test_var_input.append(x1_traj[:-1])\n",
    "test_var_out.append(x1_traj[1: ])\n",
    "    \n",
    "x1_traj = torch.FloatTensor(x1_traj).view(-1, 1)\n",
    "for k in range(test_T):\n",
    "    model.hidden_1 = (torch.zeros(1,1,model.hidden_dim_1),\n",
    "                        torch.zeros(1,1,model.hidden_dim_1))\n",
    "    model.hidden_2 = (torch.zeros(1,1,model.hidden_dim_2),\n",
    "                        torch.zeros(1,1,model.hidden_dim_2))\n",
    "    model.hidden_3 = (torch.zeros(1,1,model.hidden_dim_3),\n",
    "                        torch.zeros(1,1,model.hidden_dim_3))\n",
    "    x1_traj_pred[k] = model(x1_traj[k])\n",
    "test_var_pred.append(x1_traj_pred)\n",
    "\n",
    "fig7, ax7 = plt.subplots(1, 1, figsize=(6, 6))\n",
    "ikeda_index = '0.75'\n",
    "ax7.plot(range(test_T), test_var_pred[4])\n",
    "ax7.plot(range(test_T), test_var_out[4])\n",
    "ax7.set_xlim([80, 150])\n",
    "ax7.set_title('mu='+ikeda_index)"
   ],
   "metadata": {
    "colab": {
     "base_uri": "https://localhost:8080/",
     "height": 407
    },
    "id": "kcYprqBynQwM",
    "executionInfo": {
     "status": "ok",
     "timestamp": 1654098944869,
     "user_tz": 240,
     "elapsed": 244,
     "user": {
      "displayName": "Sunbochen Tang",
      "userId": "05750839125265487082"
     }
    },
    "outputId": "68a021af-7d03-415d-ad66-8229e102ac87",
    "pycharm": {
     "name": "#%%\n"
    }
   },
   "execution_count": null,
   "outputs": []
  },
  {
   "cell_type": "code",
   "source": [
    "for i in range(3):\n",
    "    x1_traj_pred = np.zeros((test_T, ))\n",
    "    x1_traj, _, _ = var_test_gen_traj('sine', i, test_T, x_init)\n",
    "    test_var_input.append(x1_traj[:-1])\n",
    "    test_var_out.append(x1_traj[1: ])\n",
    "    \n",
    "    x1_traj = torch.FloatTensor(x1_traj).view(-1, 1)\n",
    "    for k in range(test_T):\n",
    "        model.hidden_1 = (torch.zeros(1,1,model.hidden_dim_1),\n",
    "                        torch.zeros(1,1,model.hidden_dim_1))\n",
    "        model.hidden_2 = (torch.zeros(1,1,model.hidden_dim_2),\n",
    "                        torch.zeros(1,1,model.hidden_dim_2))\n",
    "        model.hidden_3 = (torch.zeros(1,1,model.hidden_dim_3),\n",
    "                        torch.zeros(1,1,model.hidden_dim_3))\n",
    "        x1_traj_pred[k] = model(x1_traj[k])\n",
    "    test_var_pred.append(x1_traj_pred)\n",
    "\n",
    "fig8, ax8 = plt.subplots(1, 3, figsize=(18, 6))\n",
    "T_index = ['15', '50', '80']\n",
    "for id in range(3):\n",
    "    ax8[id].plot(range(test_T), test_var_pred[id+5])\n",
    "    ax8[id].plot(range(test_T), test_var_out[id+5])\n",
    "    ax8[id].set_xlim([0, 150])\n",
    "    ax8[id].set_title('T='+T_index[id])"
   ],
   "metadata": {
    "colab": {
     "base_uri": "https://localhost:8080/",
     "height": 390
    },
    "id": "eU5phaappJny",
    "executionInfo": {
     "status": "ok",
     "timestamp": 1654098945647,
     "user_tz": 240,
     "elapsed": 781,
     "user": {
      "displayName": "Sunbochen Tang",
      "userId": "05750839125265487082"
     }
    },
    "outputId": "9940f1b2-e7d4-44bf-9618-2e91223ea955",
    "pycharm": {
     "name": "#%%\n"
    }
   },
   "execution_count": null,
   "outputs": []
  },
  {
   "cell_type": "markdown",
   "source": [
    "# Switching Test"
   ],
   "metadata": {
    "id": "ZK8bxj10qo1J",
    "pycharm": {
     "name": "#%% md\n"
    }
   }
  },
  {
   "cell_type": "code",
   "source": [
    "def switch_test_gen_traj(i, N1, N2, N3, x1_0):\n",
    "    # only generate x_1 trajectory for each of the 13 time series\n",
    "    N = N1 + N2 + N3\n",
    "    x1_traj = np.zeros((N+1, ))\n",
    "    x2_traj = np.zeros((N+1, ))\n",
    "    m_traj = np.zeros((N+1, ))\n",
    "\n",
    "    # x2_0 = 10*np.random.randn()\n",
    "    x2_0 = 0\n",
    "    x1_traj[0] = x1_0\n",
    "    x2_traj[0] = x2_0\n",
    "\n",
    "    mu = 0.7\n",
    "\n",
    "    if i == 0:\n",
    "        for k in range(N1):\n",
    "            x1_traj[k+1] = 3.1*x1_traj[k]*(1 - x1_traj[k])\n",
    "        for k in range(N1, N1+N2):\n",
    "            x1_traj[k+1] = 0.8 - 1.4*x1_traj[k]**2 + x2_traj[k]\n",
    "            x2_traj[k+1] = 0.3*x1_traj[k]\n",
    "        for k in range(N1+N2, N1+N2+N3):\n",
    "            x1_traj[k+1] = np.sin(2*np.pi*k/80)\n",
    "    elif i == 1:\n",
    "        for k in range(N1):\n",
    "            x1_traj[k+1] = np.sin(2*np.pi*k/20)\n",
    "        for k in range(N1, N1+N2+N3):\n",
    "            x1_traj[k+1] = 3.1*x1_traj[k]*(1 - x1_traj[k])\n",
    "    elif i == 2:\n",
    "        for k in range(N1):\n",
    "            x1_traj[k+1] = 0.8 - 1.4*x1_traj[k]**2 + x2_traj[k]\n",
    "            x2_traj[k+1] = 0.3*x1_traj[k]\n",
    "        for k in range(N1, N1+N2):\n",
    "            x1_traj[k+1] = 1.0 - 1.4*x1_traj[k]**2 + x2_traj[k]\n",
    "            x2_traj[k+1] = 0.3*x1_traj[k]\n",
    "        for k in range(N1+N2, N1+N2+N3):\n",
    "            x1_traj[k+1] = 3.1*x1_traj[k]*(1 - x1_traj[k])\n",
    "    elif i == 3:\n",
    "        for k in range(N1):\n",
    "            x1_traj[k+1] = 1.5*x1_traj[k]*(1 - x1_traj[k])\n",
    "        for k in range(N1, N1+N2):\n",
    "            x1_traj[k+1] = 1.0 - 1.4*x1_traj[k]**2 + x2_traj[k]\n",
    "            x2_traj[k+1] = 0.3*x1_traj[k]\n",
    "        for k in range(N1+N2, N1+N2+N3):\n",
    "            m_traj[k] = 0.4 - 6.0/(1 + x1_traj[k]**2 + x2_traj[k]**2)\n",
    "            x1_traj[k+1] = 1. + mu*(x1_traj[k]*np.cos(m_traj[k]) - x2_traj[k]*np.sin(m_traj[k]))\n",
    "            x2_traj[k+1] = mu*(x1_traj[k]*np.sin(m_traj[k]) + x2_traj[k]*np.cos(m_traj[k]))\n",
    "        m_traj[N] = 0.4 - 6.0/(1 + x1_traj[N]**2 + x2_traj[N]**2)\n",
    "\n",
    "    else:\n",
    "        print('Wrong type input')\n",
    "\n",
    "    return x1_traj, x2_traj, m_traj"
   ],
   "metadata": {
    "id": "zwVYZxlTqrnX",
    "pycharm": {
     "name": "#%%\n"
    }
   },
   "execution_count": null,
   "outputs": []
  },
  {
   "cell_type": "code",
   "source": [
    "test_T1 = 100\n",
    "test_T2 = 200\n",
    "test_T3 = 300\n",
    "test_T = test_T1 + test_T2 + test_T3\n",
    "\n",
    "# Set the model to evaluation mode\n",
    "\n",
    "model.eval()\n",
    "\n",
    "x_init = 0.6\n",
    "\n",
    "test_sw_input = list()\n",
    "test_sw_pred = list()\n",
    "test_sw_out = list()\n",
    "\n",
    "for i in range(4):\n",
    "    x1_traj_pred = np.zeros((test_T, ))\n",
    "    x1_traj, _, _ = switch_test_gen_traj(i, test_T1, test_T2, test_T3, x_init)\n",
    "    test_sw_input.append(x1_traj[:-1])\n",
    "    test_sw_out.append(x1_traj[1: ])\n",
    "    \n",
    "    x1_traj = torch.FloatTensor(x1_traj).view(-1, 1)\n",
    "    for k in range(test_T):\n",
    "        model.hidden_1 = (torch.zeros(1,1,model.hidden_dim_1),\n",
    "                        torch.zeros(1,1,model.hidden_dim_1))\n",
    "        model.hidden_2 = (torch.zeros(1,1,model.hidden_dim_2),\n",
    "                        torch.zeros(1,1,model.hidden_dim_2))\n",
    "        model.hidden_3 = (torch.zeros(1,1,model.hidden_dim_3),\n",
    "                        torch.zeros(1,1,model.hidden_dim_3))\n",
    "        x1_traj_pred[k] = model(x1_traj[k])\n",
    "    test_sw_pred.append(x1_traj_pred)\n",
    "\n",
    "fig9, ax9 = plt.subplots(1, 4, figsize=(24, 6))\n",
    "for id in range(4):\n",
    "    ax9[id].plot(range(test_T), test_sw_pred[id])\n",
    "    ax9[id].plot(range(test_T), test_sw_out[id])\n",
    "    if id != 1:\n",
    "      ax9[id].set_xlim([75, 125])\n",
    "    # ax5[id].set_title('alpha='+alpha_index[id])\n",
    "\n",
    "fig10, ax10 = plt.subplots(1, 4, figsize=(24, 6))\n",
    "for id in range(4):\n",
    "    ax10[id].plot(range(test_T), test_sw_pred[id])\n",
    "    ax10[id].plot(range(test_T), test_sw_out[id])\n",
    "    if id != 1:\n",
    "      ax10[id].set_xlim([175, 225])\n",
    "    # ax5[id].set_title('alpha='+alpha_index[id])"
   ],
   "metadata": {
    "colab": {
     "base_uri": "https://localhost:8080/",
     "height": 637
    },
    "id": "BsEYSkcYtWdX",
    "executionInfo": {
     "status": "ok",
     "timestamp": 1654098948220,
     "user_tz": 240,
     "elapsed": 2576,
     "user": {
      "displayName": "Sunbochen Tang",
      "userId": "05750839125265487082"
     }
    },
    "outputId": "4f24e5ad-2cbc-472d-e5be-a2c5fbe42f0b",
    "pycharm": {
     "name": "#%%\n"
    }
   },
   "execution_count": null,
   "outputs": []
  }
 ]
}